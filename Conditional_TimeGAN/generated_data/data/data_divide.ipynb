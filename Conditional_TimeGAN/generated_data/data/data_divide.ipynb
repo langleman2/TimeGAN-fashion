{
 "cells": [
  {
   "cell_type": "code",
   "execution_count": 1,
   "metadata": {},
   "outputs": [],
   "source": [
    "import pandas as pd"
   ]
  },
  {
   "cell_type": "code",
   "execution_count": 2,
   "metadata": {},
   "outputs": [],
   "source": [
    "df = pd.read_csv('/home/langleman/Conditional_TimeGAN/generated_data/data/generated_data_new_Condition_1118_b156_h18_nl18.csv', header = None)\n"
   ]
  },
  {
   "cell_type": "code",
   "execution_count": 3,
   "metadata": {},
   "outputs": [
    {
     "data": {
      "text/plain": [
       "(156, 354)"
      ]
     },
     "execution_count": 3,
     "metadata": {},
     "output_type": "execute_result"
    }
   ],
   "source": [
    "df.shape"
   ]
  },
  {
   "cell_type": "code",
   "execution_count": 5,
   "metadata": {},
   "outputs": [],
   "source": [
    "category = ['BL', 'CT', 'JK', 'JP', 'KC', 'TS', 'KT', 'OP', 'PD', 'SK', 'SL', 'TC', 'VT']\n",
    "#category = ['SK', 'SL', 'TC', 'VT']\n",
    "\n",
    "\n",
    "# 각 파일을 저장\n",
    "for i in range(13):\n",
    "    start_row = i * 12\n",
    "    end_row = start_row + 12\n",
    "    chunk = df.iloc[start_row:end_row]\n",
    "    cate = category[i]\n",
    "    filename = f\"generated_data_new_{cate}_1121_all.csv\"\n",
    "    chunk.to_csv(f\"/home/langleman/Conditional_TimeGAN/generated_data/data/{filename}\", index=False)\n"
   ]
  },
  {
   "cell_type": "code",
   "execution_count": null,
   "metadata": {},
   "outputs": [],
   "source": []
  }
 ],
 "metadata": {
  "kernelspec": {
   "display_name": "py38",
   "language": "python",
   "name": "python3"
  },
  "language_info": {
   "codemirror_mode": {
    "name": "ipython",
    "version": 3
   },
   "file_extension": ".py",
   "mimetype": "text/x-python",
   "name": "python",
   "nbconvert_exporter": "python",
   "pygments_lexer": "ipython3",
   "version": "3.8.16"
  }
 },
 "nbformat": 4,
 "nbformat_minor": 2
}
