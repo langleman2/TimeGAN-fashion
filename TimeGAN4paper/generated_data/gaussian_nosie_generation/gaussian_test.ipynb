{
 "cells": [
  {
   "cell_type": "code",
   "execution_count": 18,
   "metadata": {},
   "outputs": [],
   "source": [
    "import pandas as pd\n",
    "import numpy as np\n",
    "import matplotlib.pyplot as plt"
   ]
  },
  {
   "cell_type": "code",
   "execution_count": 36,
   "metadata": {},
   "outputs": [
    {
     "name": "stdout",
     "output_type": "stream",
     "text": [
      "BL 카테고리의 새로운 시계열 데이터가 /home/langleman/TimeGAN4paper_gaussian/generated_data/gaussian_noise_generation/BL_gaussian.csv에 저장되었습니다.\n",
      "CT 카테고리의 새로운 시계열 데이터가 /home/langleman/TimeGAN4paper_gaussian/generated_data/gaussian_noise_generation/CT_gaussian.csv에 저장되었습니다.\n",
      "JK 카테고리의 새로운 시계열 데이터가 /home/langleman/TimeGAN4paper_gaussian/generated_data/gaussian_noise_generation/JK_gaussian.csv에 저장되었습니다.\n",
      "JP 카테고리의 새로운 시계열 데이터가 /home/langleman/TimeGAN4paper_gaussian/generated_data/gaussian_noise_generation/JP_gaussian.csv에 저장되었습니다.\n",
      "KC 카테고리의 새로운 시계열 데이터가 /home/langleman/TimeGAN4paper_gaussian/generated_data/gaussian_noise_generation/KC_gaussian.csv에 저장되었습니다.\n",
      "KT 카테고리의 새로운 시계열 데이터가 /home/langleman/TimeGAN4paper_gaussian/generated_data/gaussian_noise_generation/KT_gaussian.csv에 저장되었습니다.\n",
      "OP 카테고리의 새로운 시계열 데이터가 /home/langleman/TimeGAN4paper_gaussian/generated_data/gaussian_noise_generation/OP_gaussian.csv에 저장되었습니다.\n",
      "PD 카테고리의 새로운 시계열 데이터가 /home/langleman/TimeGAN4paper_gaussian/generated_data/gaussian_noise_generation/PD_gaussian.csv에 저장되었습니다.\n",
      "SK 카테고리의 새로운 시계열 데이터가 /home/langleman/TimeGAN4paper_gaussian/generated_data/gaussian_noise_generation/SK_gaussian.csv에 저장되었습니다.\n",
      "SL 카테고리의 새로운 시계열 데이터가 /home/langleman/TimeGAN4paper_gaussian/generated_data/gaussian_noise_generation/SL_gaussian.csv에 저장되었습니다.\n",
      "TC 카테고리의 새로운 시계열 데이터가 /home/langleman/TimeGAN4paper_gaussian/generated_data/gaussian_noise_generation/TC_gaussian.csv에 저장되었습니다.\n",
      "TS 카테고리의 새로운 시계열 데이터가 /home/langleman/TimeGAN4paper_gaussian/generated_data/gaussian_noise_generation/TS_gaussian.csv에 저장되었습니다.\n",
      "VT 카테고리의 새로운 시계열 데이터가 /home/langleman/TimeGAN4paper_gaussian/generated_data/gaussian_noise_generation/VT_gaussian.csv에 저장되었습니다.\n"
     ]
    }
   ],
   "source": [
    "import pandas as pd\n",
    "import numpy as np\n",
    "import os\n",
    "\n",
    "# 카테고리 리스트\n",
    "categories = ['BL', 'CT', 'JK', 'JP', 'KC', 'KT', 'OP', 'PD', 'SK', 'SL', 'TC', 'TS', 'VT']\n",
    "\n",
    "# 가우시안 노이즈 추가 함수\n",
    "def add_gaussian_noise(series, noise_level=10):\n",
    "    noise = np.random.normal(0, noise_level, size=len(series))\n",
    "    augmented_series = series + noise\n",
    "    \n",
    "    # 음수값을 0으로 처리\n",
    "    augmented_series[augmented_series < 0] = 0\n",
    "    return augmented_series\n",
    "\n",
    "# 기본 폴더 경로 설정\n",
    "folder_path = '/home/langleman/TimeGAN4paper/data'\n",
    "\n",
    "# 각 카테고리에 대해 노이즈를 추가한 데이터 생성 및 저장\n",
    "for cat in categories:\n",
    "    # 파일 경로 설정\n",
    "    file_path = os.path.join(folder_path, f'{cat}_weekly_new_train.csv')\n",
    "    \n",
    "    # CSV 파일 읽기\n",
    "    data = pd.read_csv(file_path)\n",
    "\n",
    "    # 노이즈 추가된 시계열 데이터 12개 생성\n",
    "    num_augmented_series = 12\n",
    "    augmented_data = pd.DataFrame()\n",
    "\n",
    "    for i in range(num_augmented_series):\n",
    "        augmented_series = add_gaussian_noise(data['판매수량'], noise_level=0.1)  # 노이즈 레벨 조정 가능\n",
    "        augmented_data[f'판매수량_augmented_{i+1}'] = augmented_series\n",
    "\n",
    "    # 데이터프레임을 전치(transpose)하여 행(row)이 12개가 되게 변환\n",
    "    augmented_data = pd.DataFrame(augmented_data).transpose()\n",
    "\n",
    "    # 새로운 시계열을 CSV로 저장 (각 카테고리에 대해 파일명 지정)\n",
    "    output_file_path = f'/home/langleman/TimeGAN4paper_gaussian/generated_data/gaussian_noise_generation/{cat}_gaussian.csv'\n",
    "    augmented_data.to_csv(output_file_path, index=False)\n",
    "    \n",
    "    print(f\"{cat} 카테고리의 새로운 시계열 데이터가 {output_file_path}에 저장되었습니다.\")\n",
    "\n"
   ]
  },
  {
   "cell_type": "code",
   "execution_count": null,
   "metadata": {},
   "outputs": [],
   "source": []
  }
 ],
 "metadata": {
  "kernelspec": {
   "display_name": "py38",
   "language": "python",
   "name": "python3"
  },
  "language_info": {
   "codemirror_mode": {
    "name": "ipython",
    "version": 3
   },
   "file_extension": ".py",
   "mimetype": "text/x-python",
   "name": "python",
   "nbconvert_exporter": "python",
   "pygments_lexer": "ipython3",
   "version": "3.8.16"
  }
 },
 "nbformat": 4,
 "nbformat_minor": 2
}
